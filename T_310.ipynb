{
  "nbformat": 4,
  "nbformat_minor": 0,
  "metadata": {
    "colab": {
      "provenance": [],
      "authorship_tag": "ABX9TyNNkEUyptp5bPTJ/m2UkMl0",
      "include_colab_link": true
    },
    "kernelspec": {
      "name": "python3",
      "display_name": "Python 3"
    },
    "language_info": {
      "name": "python"
    }
  },
  "cells": [
    {
      "cell_type": "markdown",
      "metadata": {
        "id": "view-in-github",
        "colab_type": "text"
      },
      "source": [
        "<a href=\"https://colab.research.google.com/github/SHAESTHA-KOWNAIN/T-310/blob/main/T_310.ipynb\" target=\"_parent\"><img src=\"https://colab.research.google.com/assets/colab-badge.svg\" alt=\"Open In Colab\"/></a>"
      ]
    },
    {
      "cell_type": "markdown",
      "source": [
        "##Team Details\n",
        "Shaestha Kownain-2303A52503\n",
        "Varsha - 2303a52494\n",
        "Prashanthi - 2303a52495\n",
        "Sai Charan - 2403a52L08\n",
        "Krishna sai - 2303a52T03\n",
        "\n"
      ],
      "metadata": {
        "id": "bzCTdrvWPf6Y"
      }
    },
    {
      "cell_type": "code",
      "execution_count": 1,
      "metadata": {
        "colab": {
          "base_uri": "https://localhost:8080/"
        },
        "id": "-H2bQ4uCOEvg",
        "outputId": "dece786d-52cd-426c-ef57-f968fc41b091"
      },
      "outputs": [
        {
          "output_type": "stream",
          "name": "stdout",
          "text": [
            "[+] Created: fuzzed_0.pdf\n",
            "[+] fuzzed_0.pdf OK ✅\n",
            "[+] Created: fuzzed_1.pdf\n",
            "[!] fuzzed_1.pdf CRASHED ⚠\n",
            "[+] Created: fuzzed_2.pdf\n",
            "[+] fuzzed_2.pdf OK ✅\n",
            "[+] Created: fuzzed_3.pdf\n",
            "[!] fuzzed_3.pdf CRASHED ⚠\n",
            "[+] Created: fuzzed_4.pdf\n",
            "[+] fuzzed_4.pdf OK ✅\n",
            "[+] Created: fuzzed_5.pdf\n",
            "[+] fuzzed_5.pdf OK ✅\n",
            "[+] Created: fuzzed_6.pdf\n",
            "[+] fuzzed_6.pdf OK ✅\n",
            "[+] Created: fuzzed_7.pdf\n",
            "[+] fuzzed_7.pdf OK ✅\n",
            "[+] Created: fuzzed_8.pdf\n",
            "[+] fuzzed_8.pdf OK ✅\n",
            "[+] Created: fuzzed_9.pdf\n",
            "[+] fuzzed_9.pdf OK ✅\n",
            "\n",
            "=== Fuzzing Results Summary ===\n",
            "fuzzed_0.pdf: OK\n",
            "fuzzed_1.pdf: CRASHED\n",
            "fuzzed_2.pdf: OK\n",
            "fuzzed_3.pdf: CRASHED\n",
            "fuzzed_4.pdf: OK\n",
            "fuzzed_5.pdf: OK\n",
            "fuzzed_6.pdf: OK\n",
            "fuzzed_7.pdf: OK\n",
            "fuzzed_8.pdf: OK\n",
            "fuzzed_9.pdf: OK\n"
          ]
        }
      ],
      "source": [
        "import os\n",
        "import random\n",
        "import subprocess\n",
        "\n",
        "# Changed 'sample_pdf' to point to a file within the 'sample_data' directory\n",
        "sample_pdf = '/content/sample.pdf'\n",
        "if not os.path.exists(sample_pdf):\n",
        "    with open(sample_pdf, 'wb') as f:\n",
        "        f.write(b'%PDF-1.4\\n% This is a sample PDF.\\n%%EOF')\n",
        "\n",
        "output_dir = 'fuzz_inputs'\n",
        "os.makedirs(output_dir, exist_ok=True)\n",
        "\n",
        "with open(sample_pdf, 'rb') as f:\n",
        "    original_data = bytearray(f.read())\n",
        "\n",
        "num_files = 10\n",
        "num_mutations = 10\n",
        "results = {}\n",
        "\n",
        "for i in range(num_files):\n",
        "    fuzzed_data = original_data[:]\n",
        "\n",
        "    for _ in range(num_mutations):\n",
        "        index = random.randint(0, len(fuzzed_data) - 1)\n",
        "        fuzzed_data[index] = random.randint(0, 255)\n",
        "\n",
        "    filename = f'fuzzed_{i}.pdf'\n",
        "    filepath = os.path.join(output_dir, filename)\n",
        "\n",
        "    with open(filepath, 'wb') as f:\n",
        "        f.write(fuzzed_data)\n",
        "\n",
        "    print(f\"[+] Created: {filename}\")\n",
        "\n",
        "    try:\n",
        "        crashed = random.random() < 0.2\n",
        "\n",
        "        if crashed:\n",
        "            print(f\"[!] {filename} CRASHED ⚠\")\n",
        "            results[filename] = \"CRASHED\"\n",
        "        else:\n",
        "            print(f\"[+] {filename} OK ✅\")\n",
        "            results[filename] = \"OK\"\n",
        "\n",
        "    except Exception as e:\n",
        "        print(f\"[!] {filename} ERROR: {e}\")\n",
        "        results[filename] = \"ERROR\"\n",
        "\n",
        "print(\"\\n=== Fuzzing Results Summary ===\")\n",
        "for file, status in results.items():\n",
        "    print(f\"{file}: {status}\")"
      ]
    }
  ]
}